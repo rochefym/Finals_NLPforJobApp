{
 "cells": [
  {
   "cell_type": "markdown",
   "id": "f1ccad64-d8dc-4a73-9d31-7ec6b0355378",
   "metadata": {},
   "source": [
    "# 1. Import libraries"
   ]
  },
  {
   "cell_type": "code",
   "execution_count": 1,
   "id": "a4a01367-7875-4020-ba0d-25c9f7ec5701",
   "metadata": {
    "collapsed": true,
    "jupyter": {
     "outputs_hidden": true
    },
    "scrolled": true
   },
   "outputs": [
    {
     "name": "stdout",
     "output_type": "stream",
     "text": [
      "Requirement already satisfied: matplotlib in c:\\users\\rochefym\\anaconda3\\lib\\site-packages (3.9.2)\n",
      "Requirement already satisfied: contourpy>=1.0.1 in c:\\users\\rochefym\\anaconda3\\lib\\site-packages (from matplotlib) (1.2.0)\n",
      "Requirement already satisfied: cycler>=0.10 in c:\\users\\rochefym\\anaconda3\\lib\\site-packages (from matplotlib) (0.11.0)\n",
      "Requirement already satisfied: fonttools>=4.22.0 in c:\\users\\rochefym\\anaconda3\\lib\\site-packages (from matplotlib) (4.51.0)\n",
      "Requirement already satisfied: kiwisolver>=1.3.1 in c:\\users\\rochefym\\anaconda3\\lib\\site-packages (from matplotlib) (1.4.4)\n",
      "Requirement already satisfied: numpy>=1.23 in c:\\users\\rochefym\\anaconda3\\lib\\site-packages (from matplotlib) (1.26.4)\n",
      "Requirement already satisfied: packaging>=20.0 in c:\\users\\rochefym\\anaconda3\\lib\\site-packages (from matplotlib) (24.1)\n",
      "Requirement already satisfied: pillow>=8 in c:\\users\\rochefym\\anaconda3\\lib\\site-packages (from matplotlib) (10.4.0)\n",
      "Requirement already satisfied: pyparsing>=2.3.1 in c:\\users\\rochefym\\anaconda3\\lib\\site-packages (from matplotlib) (3.1.2)\n",
      "Requirement already satisfied: python-dateutil>=2.7 in c:\\users\\rochefym\\anaconda3\\lib\\site-packages (from matplotlib) (2.9.0.post0)\n",
      "Requirement already satisfied: six>=1.5 in c:\\users\\rochefym\\anaconda3\\lib\\site-packages (from python-dateutil>=2.7->matplotlib) (1.16.0)\n"
     ]
    }
   ],
   "source": [
    "!pip install matplotlib"
   ]
  },
  {
   "cell_type": "code",
   "execution_count": 3,
   "id": "83ef4b9c-bd3c-43df-a4d3-e545423c08c1",
   "metadata": {},
   "outputs": [],
   "source": [
    "import numpy as np\n",
    "import pandas as pd\n",
    "import matplotlib.pyplot as plt\n",
    "import seaborn as sns\n",
    "from sklearn.model_selection import train_test_split\n",
    "from sklearn.feature_extraction.text import TfidfVectorizer\n",
    "from sklearn.ensemble import RandomForestClassifier\n",
    "from sklearn.metrics import accuracy_score, confusion_matrix\n",
    "import matplotlib.pyplot as plt\n",
    "import seaborn as sns"
   ]
  },
  {
   "cell_type": "markdown",
   "id": "e2f85f07-4770-4577-ac8f-22be520ada70",
   "metadata": {},
   "source": [
    "# 2. Import preprocessed dataset"
   ]
  },
  {
   "cell_type": "code",
   "execution_count": 5,
   "id": "a6f53c6d-2645-40ce-8e0c-bad30f85445d",
   "metadata": {},
   "outputs": [],
   "source": [
    "clean_df = pd.read_csv('clean_resume_data/clean_resume_data.csv')"
   ]
  },
  {
   "cell_type": "code",
   "execution_count": 8,
   "id": "b936b561-9ffe-4f5a-9bb2-a93427c3f7fc",
   "metadata": {},
   "outputs": [
    {
     "data": {
      "text/html": [
       "<div>\n",
       "<style scoped>\n",
       "    .dataframe tbody tr th:only-of-type {\n",
       "        vertical-align: middle;\n",
       "    }\n",
       "\n",
       "    .dataframe tbody tr th {\n",
       "        vertical-align: top;\n",
       "    }\n",
       "\n",
       "    .dataframe thead th {\n",
       "        text-align: right;\n",
       "    }\n",
       "</style>\n",
       "<table border=\"1\" class=\"dataframe\">\n",
       "  <thead>\n",
       "    <tr style=\"text-align: right;\">\n",
       "      <th></th>\n",
       "      <th>ID</th>\n",
       "      <th>Category</th>\n",
       "      <th>Feature</th>\n",
       "    </tr>\n",
       "  </thead>\n",
       "  <tbody>\n",
       "    <tr>\n",
       "      <th>0</th>\n",
       "      <td>16852973</td>\n",
       "      <td>HR</td>\n",
       "      <td>hr administrator marketing associate hr admini...</td>\n",
       "    </tr>\n",
       "    <tr>\n",
       "      <th>1</th>\n",
       "      <td>22323967</td>\n",
       "      <td>HR</td>\n",
       "      <td>hr specialist hr operations summary media prof...</td>\n",
       "    </tr>\n",
       "    <tr>\n",
       "      <th>2</th>\n",
       "      <td>33176873</td>\n",
       "      <td>HR</td>\n",
       "      <td>hr director summary years experience recruitin...</td>\n",
       "    </tr>\n",
       "    <tr>\n",
       "      <th>3</th>\n",
       "      <td>27018550</td>\n",
       "      <td>HR</td>\n",
       "      <td>hr specialist summary dedicated driven dynamic...</td>\n",
       "    </tr>\n",
       "    <tr>\n",
       "      <th>4</th>\n",
       "      <td>17812897</td>\n",
       "      <td>HR</td>\n",
       "      <td>hr manager skill highlights hr skills hr depar...</td>\n",
       "    </tr>\n",
       "  </tbody>\n",
       "</table>\n",
       "</div>"
      ],
      "text/plain": [
       "         ID Category                                            Feature\n",
       "0  16852973       HR  hr administrator marketing associate hr admini...\n",
       "1  22323967       HR  hr specialist hr operations summary media prof...\n",
       "2  33176873       HR  hr director summary years experience recruitin...\n",
       "3  27018550       HR  hr specialist summary dedicated driven dynamic...\n",
       "4  17812897       HR  hr manager skill highlights hr skills hr depar..."
      ]
     },
     "execution_count": 8,
     "metadata": {},
     "output_type": "execute_result"
    }
   ],
   "source": [
    "clean_df.head(5)"
   ]
  },
  {
   "cell_type": "code",
   "execution_count": 10,
   "id": "47687ea2-e3aa-4f55-86d3-f9d2b7c9e1ff",
   "metadata": {},
   "outputs": [
    {
     "data": {
      "text/plain": [
       "Category\n",
       "INFORMATION-TECHNOLOGY    120\n",
       "BUSINESS-DEVELOPMENT      120\n",
       "FINANCE                   118\n",
       "ADVOCATE                  118\n",
       "ACCOUNTANT                118\n",
       "ENGINEERING               118\n",
       "CHEF                      118\n",
       "AVIATION                  117\n",
       "FITNESS                   117\n",
       "SALES                     116\n",
       "BANKING                   115\n",
       "HEALTHCARE                115\n",
       "CONSULTANT                115\n",
       "CONSTRUCTION              112\n",
       "PUBLIC-RELATIONS          111\n",
       "HR                        110\n",
       "DESIGNER                  107\n",
       "ARTS                      103\n",
       "TEACHER                   102\n",
       "APPAREL                    97\n",
       "DIGITAL-MEDIA              96\n",
       "AGRICULTURE                63\n",
       "AUTOMOBILE                 36\n",
       "BPO                        22\n",
       "Name: count, dtype: int64"
      ]
     },
     "execution_count": 10,
     "metadata": {},
     "output_type": "execute_result"
    }
   ],
   "source": [
    "clean_df['Category'].value_counts()"
   ]
  },
  {
   "cell_type": "markdown",
   "id": "8eae04e7-a58d-4e06-be8d-a8903b301394",
   "metadata": {},
   "source": [
    "# 3. Balance Dataset"
   ]
  },
  {
   "cell_type": "code",
   "execution_count": 13,
   "id": "acbbf3db-8fca-4e78-bc40-f25e61ab763a",
   "metadata": {},
   "outputs": [],
   "source": [
    "from sklearn.utils import resample\n",
    "\n",
    "# Define the maximum count among all categories\n",
    "max_count = clean_df['Category'].value_counts().max()\n",
    "\n",
    "# Resample each category to match the maximum count\n",
    "balanced_data = []\n",
    "for category in clean_df['Category'].unique():\n",
    "    category_data = clean_df[clean_df['Category'] == category]\n",
    "    if len(category_data) < max_count:\n",
    "        # Perform oversampling for categories with fewer samples\n",
    "        balanced_category_data = resample(category_data, replace=True, n_samples=max_count, random_state=42)\n",
    "    else:\n",
    "        # Perform undersampling for categories with more samples\n",
    "        balanced_category_data = resample(category_data, replace=False, n_samples=max_count, random_state=42)\n",
    "    balanced_data.append(balanced_category_data)\n",
    "\n",
    "# Concatenate the balanced data for all categories\n",
    "balanced_df = pd.concat(balanced_data)"
   ]
  },
  {
   "cell_type": "code",
   "execution_count": 15,
   "id": "b83f87cb-3405-40c8-ae06-54ec71f8afa8",
   "metadata": {
    "collapsed": true,
    "jupyter": {
     "outputs_hidden": true
    },
    "scrolled": true
   },
   "outputs": [
    {
     "data": {
      "text/plain": [
       "102           HR\n",
       "51            HR\n",
       "92            HR\n",
       "14            HR\n",
       "106           HR\n",
       "          ...   \n",
       "2390    AVIATION\n",
       "2392    AVIATION\n",
       "2455    AVIATION\n",
       "2426    AVIATION\n",
       "2475    AVIATION\n",
       "Name: Category, Length: 2880, dtype: object"
      ]
     },
     "execution_count": 15,
     "metadata": {},
     "output_type": "execute_result"
    }
   ],
   "source": [
    "balanced_df['Category']"
   ]
  },
  {
   "cell_type": "code",
   "execution_count": 17,
   "id": "382ba029-38f3-43d6-99ba-0f499ea7b627",
   "metadata": {
    "collapsed": true,
    "jupyter": {
     "outputs_hidden": true
    },
    "scrolled": true
   },
   "outputs": [
    {
     "data": {
      "text/plain": [
       "Category\n",
       "HR                        120\n",
       "DESIGNER                  120\n",
       "ARTS                      120\n",
       "BANKING                   120\n",
       "PUBLIC-RELATIONS          120\n",
       "CONSTRUCTION              120\n",
       "ACCOUNTANT                120\n",
       "ENGINEERING               120\n",
       "APPAREL                   120\n",
       "FINANCE                   120\n",
       "CHEF                      120\n",
       "AUTOMOBILE                120\n",
       "DIGITAL-MEDIA             120\n",
       "CONSULTANT                120\n",
       "SALES                     120\n",
       "BPO                       120\n",
       "AGRICULTURE               120\n",
       "FITNESS                   120\n",
       "HEALTHCARE                120\n",
       "BUSINESS-DEVELOPMENT      120\n",
       "ADVOCATE                  120\n",
       "TEACHER                   120\n",
       "INFORMATION-TECHNOLOGY    120\n",
       "AVIATION                  120\n",
       "Name: count, dtype: int64"
      ]
     },
     "execution_count": 17,
     "metadata": {},
     "output_type": "execute_result"
    }
   ],
   "source": [
    "balanced_df['Category'].value_counts()"
   ]
  },
  {
   "cell_type": "code",
   "execution_count": 23,
   "id": "faa183b1-0f60-45d0-ba4e-ca6fba399ccb",
   "metadata": {},
   "outputs": [],
   "source": [
    "#Drop null values\n",
    "# balanced_df.isnull().sum()\n",
    "balanced_df.dropna(inplace=True)"
   ]
  },
  {
   "cell_type": "markdown",
   "id": "f8f64691-4579-4ff2-9eb7-bbe1e2a1488e",
   "metadata": {},
   "source": [
    "# 4. Train-Test Split"
   ]
  },
  {
   "cell_type": "code",
   "execution_count": 26,
   "id": "3a8560fb-c244-4df2-bf9f-4fe2e751d7e8",
   "metadata": {},
   "outputs": [],
   "source": [
    "X = balanced_df['Feature']\n",
    "y = balanced_df['Category']\n",
    "X_train, X_test, y_train, y_test = train_test_split(X, y, test_size=0.1, random_state=42)"
   ]
  },
  {
   "cell_type": "markdown",
   "id": "f40f9d1d-362a-4a99-8b58-18d779555947",
   "metadata": {},
   "source": [
    "# 5. Encoding (TF-IDF)"
   ]
  },
  {
   "cell_type": "code",
   "execution_count": 31,
   "id": "a96ca1cc-1bc1-4a84-a1a0-3abfb21274f7",
   "metadata": {},
   "outputs": [],
   "source": [
    "tfidf_vectorizer = TfidfVectorizer()\n",
    "X_train_tfidf = tfidf_vectorizer.fit_transform(X_train)\n",
    "X_test_tfidf = tfidf_vectorizer.transform(X_test)"
   ]
  },
  {
   "cell_type": "markdown",
   "id": "59e19ad8-facd-45fa-86bf-cd4292162e40",
   "metadata": {},
   "source": [
    "#  6. Train Random Forest Classifier\n"
   ]
  },
  {
   "cell_type": "code",
   "execution_count": 34,
   "id": "4f475bf2-7d06-4b45-bb67-7812a3f3c467",
   "metadata": {},
   "outputs": [
    {
     "name": "stdout",
     "output_type": "stream",
     "text": [
      "Accuracy: 0.8315972222222222\n"
     ]
    }
   ],
   "source": [
    "rf_classifier = RandomForestClassifier()\n",
    "rf_classifier.fit(X_train_tfidf, y_train)\n",
    "\n",
    "# Accuracy Evaluation\n",
    "y_pred = rf_classifier.predict(X_test_tfidf)\n",
    "accuracy = accuracy_score(y_test, y_pred)\n",
    "print(\"Accuracy:\", accuracy)\n"
   ]
  },
  {
   "cell_type": "code",
   "execution_count": 38,
   "id": "1668a124-e117-4945-b287-97af9855522b",
   "metadata": {},
   "outputs": [
    {
     "name": "stdout",
     "output_type": "stream",
     "text": [
      "                        precision    recall  f1-score   support\n",
      "\n",
      "            ACCOUNTANT       0.77      0.95      0.85        21\n",
      "              ADVOCATE       1.00      0.66      0.79        29\n",
      "           AGRICULTURE       0.90      0.78      0.84        23\n",
      "               APPAREL       1.00      0.81      0.89        21\n",
      "                  ARTS       1.00      0.59      0.74        22\n",
      "            AUTOMOBILE       1.00      1.00      1.00        19\n",
      "              AVIATION       0.94      1.00      0.97        30\n",
      "               BANKING       1.00      0.70      0.82        23\n",
      "                   BPO       1.00      1.00      1.00        15\n",
      "  BUSINESS-DEVELOPMENT       0.56      0.56      0.56        18\n",
      "                  CHEF       0.97      1.00      0.98        28\n",
      "          CONSTRUCTION       0.80      0.96      0.87        25\n",
      "            CONSULTANT       0.95      0.61      0.75        31\n",
      "              DESIGNER       0.96      0.79      0.86        28\n",
      "         DIGITAL-MEDIA       0.76      0.90      0.83        21\n",
      "           ENGINEERING       0.85      0.96      0.90        23\n",
      "               FINANCE       0.78      0.67      0.72        21\n",
      "               FITNESS       0.78      0.95      0.86        22\n",
      "            HEALTHCARE       0.77      0.79      0.78        29\n",
      "                    HR       0.58      1.00      0.74        21\n",
      "INFORMATION-TECHNOLOGY       0.76      0.83      0.79        23\n",
      "      PUBLIC-RELATIONS       0.82      0.78      0.80        23\n",
      "                 SALES       0.73      0.70      0.72        27\n",
      "               TEACHER       0.75      1.00      0.86        33\n",
      "\n",
      "              accuracy                           0.83       576\n",
      "             macro avg       0.85      0.83      0.83       576\n",
      "          weighted avg       0.85      0.83      0.83       576\n",
      "\n"
     ]
    }
   ],
   "source": [
    "from sklearn.metrics import classification_report\n",
    "\n",
    "print(classification_report(y_test,y_pred))"
   ]
  },
  {
   "cell_type": "markdown",
   "id": "e27bc086-72b1-4d41-8e9c-538da96808d2",
   "metadata": {},
   "source": [
    "# 7. Predictive System\n"
   ]
  },
  {
   "cell_type": "code",
   "execution_count": 43,
   "id": "5aa82e16-1bdf-4aef-91bc-5561684f3f8d",
   "metadata": {},
   "outputs": [],
   "source": [
    "import re  # Import Python's regular expressions module\n",
    "\n",
    "def cleanResume(txt):\n",
    "    # Remove URLs starting with http (e.g., http://example.com)\n",
    "    cleanText = re.sub(r'http\\S+\\s', ' ', txt)\n",
    "\n",
    "    # Remove common retweet and copy-paste tags (often seen in social media text)\n",
    "    cleanText = re.sub(r'RT|cc', ' ', cleanText)\n",
    "\n",
    "    # Remove hashtags and the word following them (e.g., #Python)\n",
    "    cleanText = re.sub(r'#\\S+\\s', ' ', cleanText)\n",
    "\n",
    "    # Remove mentions like @username\n",
    "    cleanText = re.sub(r'@\\S+', ' ', cleanText)\n",
    "\n",
    "    # Remove punctuation and special characters using escaped characters\n",
    "    cleanText = re.sub('[%s]' % re.escape(r\"\"\"!\"#$%&'()*+,-./:;<=>?@[\\]^_`{|}~\"\"\"), ' ', cleanText)\n",
    "\n",
    "    # Remove non-ASCII characters (e.g., emojis, foreign scripts)\n",
    "    cleanText = re.sub(r'[^\\x00-\\x7f]', ' ', cleanText)\n",
    "\n",
    "    # Replace multiple spaces, tabs, and newlines with a single space\n",
    "    cleanText = re.sub(r'\\s+', ' ', cleanText)\n",
    "\n",
    "    # Return the cleaned text\n",
    "    return cleanText\n",
    "\n",
    "\n",
    "\n",
    "# Prediction and Category Name\n",
    "def predict_category(resume_text):\n",
    "    resume_text= cleanResume(resume_text)\n",
    "    resume_tfidf = tfidf_vectorizer.transform([resume_text])\n",
    "    predicted_category = rf_classifier.predict(resume_tfidf)[0]\n",
    "    return predicted_category"
   ]
  },
  {
   "cell_type": "code",
   "execution_count": 45,
   "id": "a8de4ac5-93fa-4cee-9782-5ca3fb2dcce2",
   "metadata": {},
   "outputs": [
    {
     "name": "stdout",
     "output_type": "stream",
     "text": [
      "Predicted Category: HR\n"
     ]
    }
   ],
   "source": [
    "# Example Usage\n",
    "resume_file = \"\"\"hr assistant summary hard worker dedicated detailed oriented experienced organized highly motivated many attributes possess individual years experience human resource administration customer service talent quickly adapt new challenges experience focused benefits administration payroll career development employment law highlights assigned administrative assignments daily basis implemented employee handbook processed documentation employees conducted employees performance reviews managed employee scheduling coordinated upper level co worker lower level teamwork oriented processed new recruits processed payroll performed check managed inventory supplies secured new wholesale food purveyor decrease costs increase profits accomplishments accomplishments pho n restaurant managed restaurant financial objectives developing financing establishing banking relationships prepared strategic annual forecasts budgets analyzing variances initiating corrective actions establishing financial controls developed implemented strategies increase average meal checks created restaurant business plan surveying restaurant demand conferring people community identifying evaluating competitors preparing financial marketing sales projections analyses estimates controlled purchases inventory meeting account manager negotiating prices contracts developing preferred supplier lists reviewing evaluating usage reports analyzing variances taking corrective actions contributed team effort inspired team members motivation provided high level customer service maintain high profile day day operations handled complaints contentious issues settled directly team members provides fast solution accomplished campaign recycle program divide right trash right bin accomplishments dr norman g mckoy associates demonstrated success administrative employee handbook developing team building programs corporate policies job descriptions management reports organized office documents patients charts organized office woking areas welcomed new employees organization conducting orientation organized employees document pockets maintained employees confidence protect operation keeping human resource information confidential maintained employee information entering updating employment status change data provided payroll information collecting time attendance records provided secretarial support entering formatting printing information organizing work answering telephone relaying messages maintaining equipment supplies experience company name city state hr assistant increased productivity physician office organizing patients charts converting digital files streamline patient maintenance processed pay roll paychex includes ensured vacation sick time tracked system answered payroll questions facilited resolutions payroll errors processed incoming mails going mails successfully edited employee handbook define job descriptions create office policies patient managing proper patient reports wrote employee handbook covering issues including disciplinary procedures code conduct fmla policy benefits information wrote standard operations procedures manual sops detailed aspect employee expectations designed implement overall recruiting strategy coordinated office manager recruit right candidates administering interviews conducting background checks processed documentation prepared reports relating personnel activities staffing recruitment training performance evaluations etc identified reduced business expenses increase profits controlling budget compares actual results budget expectations company name city state general manager current hostess waitress promoted interview recruit new hires order sustain longer hours operation thus increased company profitswas successful ensuring successful integration new hires implementing training compensation structures ordered foods supplies restaurant checked maintained inventory handling daily accounting processing payroll processed cost reduction thought venders whole sale increased marketability restaurant designing creating new modernized menu prepared willing step restaurant short staff low turn order increase productivity provide best service maintained great quality quantity foods restaurant created recycle program divided recyclable bin non recyclable waste bin education bachelor arts humanities english university thai chamber commerce city thailand humanities english excelled language culture transportation management critical reading article writing advanced technical reading master science human resource management strayer university city state usa human resource management magna cum laude excelled human resources law management ethical hr information systems hris strategic management registered professional human resources aphr certification hr designations registering aphr professional human resources exam expect complete aphr certification professional affiliations enrolling ongoing training areas compensation benefits employee labor relations leaves absence workers compensation workplace safety security member society human resource management shrm skills human resource management skills employment law hr policies procedures training development performance management employee relations mediation benefits administration orientation boarding organizational development staff life cycle computer skills hris applications peoplesoft enterprise human resources ms office word excel powerpoint access outlook e mailing tools ms outlook windows outlook yahoo google networking skills job boards networking sites soft skills professional communication skills interpersonal skills bilingual thai english excellent adaptability new environments hard working flexible reliable honest polite shape decision making excellent customer service skills creative\n",
    "\"\"\"\n",
    "\n",
    "predicted_category = predict_category(resume_file)\n",
    "print(\"Predicted Category:\", predicted_category)"
   ]
  },
  {
   "cell_type": "markdown",
   "id": "71e32eb6-9834-4df6-a6a9-c21ae750539e",
   "metadata": {},
   "source": [
    "# 8. Save RandomForestClassifier Model\n"
   ]
  },
  {
   "cell_type": "code",
   "execution_count": 50,
   "id": "b21c03d2-c459-445c-9ef2-7ffdb4fa4b2b",
   "metadata": {},
   "outputs": [],
   "source": [
    "import pickle\n",
    "pickle.dump(rf_classifier,open('models/rf_classifier_categorization.pkl','wb'))\n",
    "pickle.dump(tfidf_vectorizer,open('models/tfidf_vectorizer_categorization.pkl','wb'))"
   ]
  },
  {
   "cell_type": "code",
   "execution_count": null,
   "id": "e88bfb3b-b0d2-4449-8cbb-7d1c6a875037",
   "metadata": {},
   "outputs": [],
   "source": []
  }
 ],
 "metadata": {
  "kernelspec": {
   "display_name": "Python [conda env:base] *",
   "language": "python",
   "name": "conda-base-py"
  },
  "language_info": {
   "codemirror_mode": {
    "name": "ipython",
    "version": 3
   },
   "file_extension": ".py",
   "mimetype": "text/x-python",
   "name": "python",
   "nbconvert_exporter": "python",
   "pygments_lexer": "ipython3",
   "version": "3.12.7"
  }
 },
 "nbformat": 4,
 "nbformat_minor": 5
}
