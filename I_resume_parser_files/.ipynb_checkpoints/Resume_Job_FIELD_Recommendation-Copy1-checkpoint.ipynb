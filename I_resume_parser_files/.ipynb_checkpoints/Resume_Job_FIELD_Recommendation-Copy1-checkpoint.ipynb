{
 "cells": [
  {
   "cell_type": "markdown",
   "id": "f1ccad64-d8dc-4a73-9d31-7ec6b0355378",
   "metadata": {},
   "source": [
    "# 1. Import libraries"
   ]
  },
  {
   "cell_type": "code",
   "execution_count": 1,
   "id": "a4a01367-7875-4020-ba0d-25c9f7ec5701",
   "metadata": {
    "collapsed": true,
    "jupyter": {
     "outputs_hidden": true
    },
    "scrolled": true
   },
   "outputs": [
    {
     "name": "stdout",
     "output_type": "stream",
     "text": [
      "Requirement already satisfied: matplotlib in c:\\users\\rochefym\\anaconda3\\lib\\site-packages (3.9.2)\n",
      "Requirement already satisfied: contourpy>=1.0.1 in c:\\users\\rochefym\\anaconda3\\lib\\site-packages (from matplotlib) (1.2.0)\n",
      "Requirement already satisfied: cycler>=0.10 in c:\\users\\rochefym\\anaconda3\\lib\\site-packages (from matplotlib) (0.11.0)\n",
      "Requirement already satisfied: fonttools>=4.22.0 in c:\\users\\rochefym\\anaconda3\\lib\\site-packages (from matplotlib) (4.51.0)\n",
      "Requirement already satisfied: kiwisolver>=1.3.1 in c:\\users\\rochefym\\anaconda3\\lib\\site-packages (from matplotlib) (1.4.4)\n",
      "Requirement already satisfied: numpy>=1.23 in c:\\users\\rochefym\\anaconda3\\lib\\site-packages (from matplotlib) (1.26.4)\n",
      "Requirement already satisfied: packaging>=20.0 in c:\\users\\rochefym\\anaconda3\\lib\\site-packages (from matplotlib) (24.1)\n",
      "Requirement already satisfied: pillow>=8 in c:\\users\\rochefym\\anaconda3\\lib\\site-packages (from matplotlib) (10.4.0)\n",
      "Requirement already satisfied: pyparsing>=2.3.1 in c:\\users\\rochefym\\anaconda3\\lib\\site-packages (from matplotlib) (3.1.2)\n",
      "Requirement already satisfied: python-dateutil>=2.7 in c:\\users\\rochefym\\anaconda3\\lib\\site-packages (from matplotlib) (2.9.0.post0)\n",
      "Requirement already satisfied: six>=1.5 in c:\\users\\rochefym\\anaconda3\\lib\\site-packages (from python-dateutil>=2.7->matplotlib) (1.16.0)\n"
     ]
    }
   ],
   "source": [
    "!pip install matplotlib"
   ]
  },
  {
   "cell_type": "code",
   "execution_count": 29,
   "id": "83ef4b9c-bd3c-43df-a4d3-e545423c08c1",
   "metadata": {},
   "outputs": [],
   "source": [
    "import numpy as np\n",
    "import pandas as pd\n",
    "import matplotlib.pyplot as plt\n",
    "import seaborn as sns\n",
    "from sklearn.model_selection import train_test_split\n",
    "from sklearn.feature_extraction.text import TfidfVectorizer\n",
    "from sklearn.ensemble import RandomForestClassifier\n",
    "from sklearn.metrics import accuracy_score, confusion_matrix\n",
    "import matplotlib.pyplot as plt\n",
    "import seaborn as sns"
   ]
  },
  {
   "cell_type": "markdown",
   "id": "e2f85f07-4770-4577-ac8f-22be520ada70",
   "metadata": {},
   "source": [
    "# 2. Import dataset"
   ]
  },
  {
   "cell_type": "code",
   "execution_count": 31,
   "id": "a6f53c6d-2645-40ce-8e0c-bad30f85445d",
   "metadata": {},
   "outputs": [],
   "source": [
    "df = pd.read_csv('csv-jobs_dataset_with_features/jobs_dataset_with_features.csv')"
   ]
  },
  {
   "cell_type": "code",
   "execution_count": 32,
   "id": "3d55134f-fd16-4e4e-af9a-10eaf591472b",
   "metadata": {},
   "outputs": [
    {
     "data": {
      "text/plain": [
       "(1615940, 2)"
      ]
     },
     "execution_count": 32,
     "metadata": {},
     "output_type": "execute_result"
    }
   ],
   "source": [
    "df.shape"
   ]
  },
  {
   "cell_type": "code",
   "execution_count": 35,
   "id": "2371fbc2-0bc5-4d0f-9f9d-378c9440dfc9",
   "metadata": {},
   "outputs": [
    {
     "data": {
      "text/plain": [
       "376"
      ]
     },
     "execution_count": 35,
     "metadata": {},
     "output_type": "execute_result"
    }
   ],
   "source": [
    "df['Role'].nunique()"
   ]
  },
  {
   "cell_type": "code",
   "execution_count": 37,
   "id": "b936b561-9ffe-4f5a-9bb2-a93427c3f7fc",
   "metadata": {},
   "outputs": [
    {
     "data": {
      "text/plain": [
       "array(['Social Media Manager', 'Frontend Web Developer',\n",
       "       'Quality Control Manager', 'Wireless Network Engineer',\n",
       "       'Conference Manager', 'Quality Assurance Analyst',\n",
       "       'Classroom Teacher', 'User Interface Designer',\n",
       "       'Interaction Designer', 'Wedding Consultant',\n",
       "       'Performance Testing Specialist', 'Family Law Attorney',\n",
       "       'Mechanical Design Engineer', 'Network Security Analyst',\n",
       "       'Sales Account Manager', 'Product Brand Manager',\n",
       "       'School Social Worker', 'Content Creator',\n",
       "       'Deliverability Analyst', 'HR Coordinator', 'Legal Secretary',\n",
       "       'Family Nurse Practitioner', 'Account Strategist',\n",
       "       'Backend Developer', 'Supply Chain Coordinator',\n",
       "       'B2B Sales Consultant', 'Structural Engineer',\n",
       "       'Security Operations Center (SOC) Analyst', 'Front-End Developer',\n",
       "       'Tax Planner', 'Event Coordinator', 'Clinical Psychologist',\n",
       "       'Electrical Engineer', 'Lighting Designer',\n",
       "       'Business Intelligence Analyst', 'Content Writer',\n",
       "       'Personal Tax Consultant', 'Automation Tester',\n",
       "       'Sales Account Executive', 'IT Support Specialist',\n",
       "       'Database Developer', 'Social Science Researcher', 'Record Keeper',\n",
       "       'Staff Nurse', 'International Tax Consultant', 'Risk Analyst',\n",
       "       'Speech Pathologist', 'Regional Sales Director',\n",
       "       'Mental Health Counselor', 'Urban Planner',\n",
       "       'Strategic Account Manager', 'User Researcher',\n",
       "       'Financial Analyst', 'Desktop Support Technician', 'Art Curator',\n",
       "       'Mobile App Developer', 'Agile Project Manager',\n",
       "       'Service Quality Assurance Manager', 'Procurement Analyst',\n",
       "       'Family Counselor', 'Logistics Analyst', 'Data Architect',\n",
       "       'Documentation Specialist', 'Financial Accountant',\n",
       "       'Inside Sales Representative', 'Inventory Manager',\n",
       "       'Automation Test Engineer', 'Sustainability Consultant',\n",
       "       'Electronics Hardware Engineer', 'Systems Integration Specialist',\n",
       "       'Brand Strategist', 'Acute Care Nurse Practitioner',\n",
       "       'Trial Attorney', 'Network Security Engineer',\n",
       "       'Research Psychologist', 'Art Education Coordinator',\n",
       "       'Talent Acquisition Manager', 'Inventory Control Specialist',\n",
       "       'Corporate Attorney', 'SQL Database Developer',\n",
       "       'Procurement Manager', 'IT Analyst', 'Key Account Executive',\n",
       "       'Creative Copywriter', 'SEO Specialist', 'Account Executive',\n",
       "       'Construction Project Manager', 'Instructional Designer',\n",
       "       'Content Strategist', 'Training Coordinator',\n",
       "       'Recruitment Coordinator', 'Strategic Partnerships Manager',\n",
       "       'Java Backend Developer', 'Sales Team Leader',\n",
       "       'Pediatric Speech Therapist', 'Big Data Engineer',\n",
       "       'NoSQL Database Engineer', 'Demand Planner', 'Wedding Designer',\n",
       "       'Event Planner', 'Portfolio Manager',\n",
       "       'Geriatric Nurse Practitioner', 'JavaScript Developer',\n",
       "       'Account Manager', 'Purchasing Coordinator',\n",
       "       'Transportation Planner', 'Adult Speech Therapist',\n",
       "       'Benefits Coordinator', 'Interior Designer', 'Investment Analyst',\n",
       "       'Email Campaign Manager', 'Sustainability Specialist',\n",
       "       'Server Developer', 'Systems Administrator', 'Design Engineer',\n",
       "       'Market Research Coordinator', 'Call Center Agent',\n",
       "       'Customer Success Manager', 'Environmental Designer',\n",
       "       'IT Business Analyst', 'Social Media Analyst',\n",
       "       'Child Custody Lawyer', 'Data Scientist',\n",
       "       'Clinical Nurse Specialist', 'Quality Control Analyst',\n",
       "       'Power Systems Engineer', 'Network Security Specialist',\n",
       "       'Commercial Interior Designer', 'Addiction Counselor',\n",
       "       'Cloud Architect', 'Data Business Analyst', 'Nursing Director',\n",
       "       'Small Animal Veterinarian', 'Chemical Engineer',\n",
       "       'Market Research Analyst', 'Infrastructure Manager', 'QA Tester',\n",
       "       'IT Project Manager', 'Client Relationship Manager',\n",
       "       'Backend Web Developer', 'Medical Sales Specialist',\n",
       "       'Office Coordinator', 'Paralegal', 'Project Architect',\n",
       "       'Performance Tester', 'Territory Sales Manager',\n",
       "       'Help Desk Support Specialist', 'Special Education Teacher',\n",
       "       'Test Automation Engineer', 'Surgical Physician Assistant',\n",
       "       'Administrative Assistant', 'Data Quality Analyst',\n",
       "       'Tax Accountant', 'Equine Veterinarian',\n",
       "       'Investment Portfolio Manager', 'Brand Director',\n",
       "       'Operations Director', 'Key Account Manager',\n",
       "       'Accessibility Developer', 'Senior Researcher',\n",
       "       'Java Software Engineer', 'Residential Interior Designer',\n",
       "       'Office Manager', 'Human Resources Director', 'Personal Assistant',\n",
       "       'Sales Representative', 'Corporate Litigator',\n",
       "       'Exotic Animal Veterinarian', 'Brand Manager', 'Sourcing Analyst',\n",
       "       'Employee Relations Specialist', 'Fine Arts Instructor',\n",
       "       'Brand PR Specialist', 'Finance Manager', 'Network Administrator',\n",
       "       'Environmental Impact Analyst', 'Wealth Advisor',\n",
       "       'Financial Planner', 'Systems Engineer', 'Procurement Coordinator',\n",
       "       'Market Researcher', 'Supply Chain Manager', 'Data Analyst',\n",
       "       'Strategic Sourcing Manager', 'Real Estate Paralegal',\n",
       "       'Commercial Landscape Architect', 'City Planner',\n",
       "       'Frontend Web Designer', 'Pediatric Occupational Therapist',\n",
       "       'Visual Designer', 'Sustainable Design Specialist',\n",
       "       'Crisis Communication Manager', 'HR Compliance Specialist',\n",
       "       'Child Welfare Worker', 'Advertising Account Executive',\n",
       "       'In-House Counsel', 'Water Resources Engineer',\n",
       "       'Marketing Specialist', 'Dental Hygiene Educator',\n",
       "       'Administrative Manager', 'SEM Analyst',\n",
       "       'Technical SEO Specialist', 'Corporate Event Coordinator',\n",
       "       'UI/UX Front-End Developer', 'Pediatric Surgeon',\n",
       "       'Project Coordinator', 'QA Manager',\n",
       "       'Mergers and Acquisitions Advisor', 'Industrial Engineer',\n",
       "       'SEO Copywriter', 'Product Marketing Manager',\n",
       "       'Machine Learning Engineer', 'Digital Marketing Coordinator',\n",
       "       'Architectural Designer', 'Frontend Developer', 'Database Analyst',\n",
       "       'Content SEO Strategist', 'Live Chat Support Agent',\n",
       "       'Intellectual Property Lawyer', 'Wealth Management Advisor',\n",
       "       'Studio Art Teacher', 'ETL Developer', 'Personal Secretary',\n",
       "       'Technical Support Specialist', 'Corporate Paralegal',\n",
       "       'Technical SEO Analyst', 'Primary Care Nurse Practitioner',\n",
       "       'Accounting Controller', 'Logistics Manager',\n",
       "       'Primary Care Provider', 'Social Media Strategist',\n",
       "       'UX/UI Designer', 'Customer Support Manager',\n",
       "       'Geriatric Occupational Therapist', 'User Experience Designer',\n",
       "       'Network Performance Analyst', 'Database Administrator',\n",
       "       'CAD Technician', 'UI/UX Developer', 'Corporate Counsel',\n",
       "       'Brand Marketing Analyst', 'Manufacturing Engineer',\n",
       "       'Procurement Specialist', 'Security Consultant', 'IT Director',\n",
       "       'Marketing Analytics Specialist', 'Research Analyst',\n",
       "       'DevOps Engineer', 'Legal Counsel', 'Database Security Specialist',\n",
       "       'Print Graphic Designer', 'Digital Marketing Manager',\n",
       "       'Litigation Support Specialist', 'Content Marketing Manager',\n",
       "       'Mediator', 'Accounting Manager', 'Sales Manager',\n",
       "       'Help Desk Analyst', 'Wedding Planner', 'Controls Engineer',\n",
       "       'General Pediatrician', 'Facilities Manager',\n",
       "       'Pediatric Physical Therapist', 'Investment Advisor',\n",
       "       'Digital Marketing Specialist', 'Cloud Systems Engineer',\n",
       "       'Industrial Designer', 'Network Engineer',\n",
       "       'Marketing Automation Specialist', 'IT Systems Administrator',\n",
       "       'Executive Assistant', 'Quality Assurance Manager',\n",
       "       'Analytical Chemist', 'Environmental Compliance Officer',\n",
       "       'Email Marketing Specialist', 'Social Media Influencer',\n",
       "       'Employment Lawyer', 'Construction Project Coordinator',\n",
       "       'Supplier Diversity Manager', 'Transportation Engineer',\n",
       "       'Environmental Consultant', 'Agile Product Owner',\n",
       "       'Architectural Drafter', 'Clinical Nurse Manager', 'Web Designer',\n",
       "       'Customer Experience Strategist', 'Full-Stack Developer',\n",
       "       'Network Support Specialist', 'Avionics Engineer',\n",
       "       'System Administrator', 'Hospitality Interior Designer',\n",
       "       'Project Manager', 'Onboarding Specialist', 'SEO Analyst',\n",
       "       'Budget Analyst', 'Business Systems Analyst',\n",
       "       'Pediatric Specialist', 'Marketing Communications Director',\n",
       "       'Recovery Coach', 'Mental Health Occupational Therapist',\n",
       "       'Retail Sales Associate', 'HVAC Engineer', 'PCB Designer',\n",
       "       'Creative Director', 'Nurse Educator', 'Data Engineer',\n",
       "       'Search Engine Marketer', 'Healthcare Business Analyst',\n",
       "       'UI/UX Designer', 'Retirement Planner', 'School Psychologist',\n",
       "       'Data Entry Specialist', 'Software QA Tester', 'Charge Nurse',\n",
       "       'API Developer', 'UX Strategist', 'Quality Control Engineer',\n",
       "       'Technical Product Manager', 'Construction Engineer',\n",
       "       'Orthopedic Physical Therapist', 'Business Development Director',\n",
       "       'Usability Analyst', 'Forensic Accountant',\n",
       "       'Customer Support Specialist', 'Enterprise Architect',\n",
       "       'Event Marketing Coordinator', 'Corporate Event Planner',\n",
       "       'Media Relations Specialist', 'Dental Public Health Hygienist',\n",
       "       'Copywriter', 'Aircraft Design Engineer',\n",
       "       'Paid Advertising Specialist', 'Environmental Planner',\n",
       "       'Community Manager', 'Process Engineer', 'Data Analyst Researcher',\n",
       "       'Residential Landscape Designer', 'Periodontal Therapist',\n",
       "       'Sustainable Landscape Specialist', 'Digital Marketing Director',\n",
       "       'Pediatric Nurse Practitioner', 'Sales Advisor',\n",
       "       'Geriatric Physical Therapist', 'Technical Writer',\n",
       "       'HVAC Systems Designer', 'Research Chemist', 'Legal Assistant',\n",
       "       'Administrative Coordinator', 'HR Generalist',\n",
       "       'Cybersecurity Analyst', 'Financial Planning Manager',\n",
       "       'Java Web Application Developer', 'Product Demonstrator',\n",
       "       'Bridge Engineer', 'Outside Sales Representative',\n",
       "       'Wedding Coordinator', 'Emergency Medicine Physician Assistant',\n",
       "       'E-commerce Web Designer', 'Technical Copywriter',\n",
       "       'Market Expansion Manager', 'Solution Architect',\n",
       "       'Research and Development (R&D) Engineer',\n",
       "       'Competitive Intelligence Analyst', 'Litigation Paralegal',\n",
       "       'Primary Care Physician Assistant', 'Web Graphic Designer',\n",
       "       'Product Designer', 'Digital Marketing Analyst', 'Court Clerk',\n",
       "       'Subject Matter Expert', 'Brand Promoter',\n",
       "       'SEO Content Strategist', 'Sales Trainer', 'Treasury Manager',\n",
       "       'Business Tax Consultant', 'Employee Development Manager'],\n",
       "      dtype=object)"
      ]
     },
     "execution_count": 37,
     "metadata": {},
     "output_type": "execute_result"
    }
   ],
   "source": [
    "df['Role'].unique()"
   ]
  },
  {
   "cell_type": "markdown",
   "id": "8eae04e7-a58d-4e06-be8d-a8903b301394",
   "metadata": {},
   "source": [
    "# 3. Balance Dataset"
   ]
  },
  {
   "cell_type": "code",
   "execution_count": 39,
   "id": "47687ea2-e3aa-4f55-86d3-f9d2b7c9e1ff",
   "metadata": {},
   "outputs": [
    {
     "data": {
      "text/plain": [
       "Role\n",
       "Interaction Designer            20580\n",
       "Network Administrator           17470\n",
       "User Interface Designer         14036\n",
       "Social Media Manager            13945\n",
       "User Experience Designer        13935\n",
       "                                ...  \n",
       "Inventory Control Specialist     3342\n",
       "Budget Analyst                   3335\n",
       "Clinical Nurse Manager           3324\n",
       "Social Science Researcher        3321\n",
       "Paid Advertising Specialist      3306\n",
       "Name: count, Length: 376, dtype: int64"
      ]
     },
     "execution_count": 39,
     "metadata": {},
     "output_type": "execute_result"
    }
   ],
   "source": [
    "df['Role'].value_counts()"
   ]
  },
  {
   "cell_type": "code",
   "execution_count": 43,
   "id": "acbbf3db-8fca-4e78-bc40-f25e61ab763a",
   "metadata": {},
   "outputs": [
    {
     "data": {
      "text/plain": [
       "Role\n",
       "Interaction Designer          20580\n",
       "Network Administrator         17470\n",
       "User Interface Designer       14036\n",
       "Social Media Manager          13945\n",
       "User Experience Designer      13935\n",
       "                              ...  \n",
       "Benefits Coordinator           6839\n",
       "Research Analyst               6830\n",
       "Administrative Coordinator     6803\n",
       "IT Support Specialist          6799\n",
       "UI/UX Designer                 6743\n",
       "Name: count, Length: 61, dtype: int64"
      ]
     },
     "execution_count": 43,
     "metadata": {},
     "output_type": "execute_result"
    }
   ],
   "source": [
    "# Dropping classes with less than 6000 instances\n",
    "min_count = 6000\n",
    "role_counts = df['Role'].value_counts()\n",
    "dropped_classes = role_counts[role_counts < min_count].index\n",
    "filtered_df = df[~df['Role'].isin(dropped_classes)].reset_index(drop=True)\n",
    "\n",
    "# Checking the updated role counts\n",
    "filtered_df['Role'].value_counts()"
   ]
  },
  {
   "cell_type": "markdown",
   "id": "f8f64691-4579-4ff2-9eb7-bbe1e2a1488e",
   "metadata": {},
   "source": [
    "# 4. Train-Test Split"
   ]
  },
  {
   "cell_type": "code",
   "execution_count": 52,
   "id": "15552010-c2d8-4600-aa39-2e43e00da7b0",
   "metadata": {},
   "outputs": [],
   "source": [
    "df = filtered_df.sample(n=100000)"
   ]
  },
  {
   "cell_type": "code",
   "execution_count": 54,
   "id": "3a8560fb-c244-4df2-bf9f-4fe2e751d7e8",
   "metadata": {},
   "outputs": [],
   "source": [
    "from sklearn.model_selection import train_test_split\n",
    "from sklearn.feature_extraction.text import TfidfVectorizer\n",
    "from sklearn.ensemble import RandomForestClassifier\n",
    "from sklearn.metrics import accuracy_score\n",
    "\n",
    "# Splitting the data into features (X) and target (y)\n",
    "X = df['Features']\n",
    "y = df['Role']\n",
    "\n",
    "# Train-test split\n",
    "X_train, X_test, y_train, y_test = train_test_split(X, y, test_size=0.2, random_state=42)"
   ]
  },
  {
   "cell_type": "markdown",
   "id": "f40f9d1d-362a-4a99-8b58-18d779555947",
   "metadata": {},
   "source": [
    "# 5. Encoding (TF-IDF vectorization)"
   ]
  },
  {
   "cell_type": "code",
   "execution_count": 56,
   "id": "a96ca1cc-1bc1-4a84-a1a0-3abfb21274f7",
   "metadata": {},
   "outputs": [],
   "source": [
    "# TF-IDF vectorization\n",
    "tfidf_vectorizer = TfidfVectorizer()\n",
    "X_train_tfidf = tfidf_vectorizer.fit_transform(X_train)\n",
    "X_test_tfidf = tfidf_vectorizer.transform(X_test)"
   ]
  },
  {
   "cell_type": "markdown",
   "id": "59e19ad8-facd-45fa-86bf-cd4292162e40",
   "metadata": {},
   "source": [
    "#  6. Train Random Forest Classifier\n"
   ]
  },
  {
   "cell_type": "code",
   "execution_count": 58,
   "id": "4f475bf2-7d06-4b45-bb67-7812a3f3c467",
   "metadata": {},
   "outputs": [
    {
     "name": "stdout",
     "output_type": "stream",
     "text": [
      "Accuracy: 1.0\n"
     ]
    }
   ],
   "source": [
    "rf_classifier = RandomForestClassifier()\n",
    "rf_classifier.fit(X_train_tfidf, y_train)\n",
    "\n",
    "# Predictions\n",
    "y_pred = rf_classifier.predict(X_test_tfidf)\n",
    "\n",
    "# Accuracy\n",
    "accuracy = accuracy_score(y_test, y_pred)\n",
    "print(\"Accuracy:\", accuracy)"
   ]
  },
  {
   "cell_type": "code",
   "execution_count": 60,
   "id": "1668a124-e117-4945-b287-97af9855522b",
   "metadata": {},
   "outputs": [
    {
     "name": "stdout",
     "output_type": "stream",
     "text": [
      "                                precision    recall  f1-score   support\n",
      "\n",
      "             Account Executive       1.00      1.00      1.00       293\n",
      "    Administrative Coordinator       1.00      1.00      1.00       286\n",
      "             Automation Tester       1.00      1.00      1.00       253\n",
      "             Backend Developer       1.00      1.00      1.00       436\n",
      "          Benefits Coordinator       1.00      1.00      1.00       268\n",
      " Business Intelligence Analyst       1.00      1.00      1.00       274\n",
      "   Client Relationship Manager       1.00      1.00      1.00       258\n",
      "               Content Creator       1.00      1.00      1.00       253\n",
      "            Content Strategist       1.00      1.00      1.00       286\n",
      "      Customer Success Manager       1.00      1.00      1.00       411\n",
      "   Customer Support Specialist       1.00      1.00      1.00       274\n",
      "                  Data Analyst       1.00      1.00      1.00       390\n",
      "         Data Entry Specialist       1.00      1.00      1.00       243\n",
      "                Data Scientist       1.00      1.00      1.00       269\n",
      "        Database Administrator       1.00      1.00      1.00       395\n",
      "                Demand Planner       1.00      1.00      1.00       399\n",
      "               DevOps Engineer       1.00      1.00      1.00       261\n",
      "             Event Coordinator       1.00      1.00      1.00       244\n",
      "                 Event Planner       1.00      1.00      1.00       262\n",
      "           Executive Assistant       1.00      1.00      1.00       412\n",
      "           Family Law Attorney       1.00      1.00      1.00       251\n",
      "             Financial Analyst       1.00      1.00      1.00       267\n",
      "           Front-End Developer       1.00      1.00      1.00       218\n",
      "            Frontend Developer       1.00      1.00      1.00       365\n",
      "            IT Project Manager       1.00      1.00      1.00       256\n",
      "         IT Support Specialist       1.00      1.00      1.00       255\n",
      "   Inside Sales Representative       1.00      1.00      1.00       282\n",
      "          Interaction Designer       1.00      1.00      1.00       760\n",
      "             Inventory Manager       1.00      1.00      1.00       242\n",
      "            Investment Advisor       1.00      1.00      1.00       254\n",
      "        Manufacturing Engineer       1.00      1.00      1.00       269\n",
      "       Market Research Analyst       1.00      1.00      1.00       255\n",
      "             Market Researcher       1.00      1.00      1.00       287\n",
      "         Network Administrator       1.00      1.00      1.00       664\n",
      "      Network Security Analyst       1.00      1.00      1.00       276\n",
      "                Office Manager       1.00      1.00      1.00       397\n",
      "                     Paralegal       1.00      1.00      1.00       279\n",
      "            Personal Assistant       1.00      1.00      1.00       264\n",
      "             Portfolio Manager       1.00      1.00      1.00       272\n",
      "           Procurement Analyst       1.00      1.00      1.00       559\n",
      "           Procurement Manager       1.00      1.00      1.00       385\n",
      "     Product Marketing Manager       1.00      1.00      1.00       261\n",
      "     Quality Assurance Analyst       1.00      1.00      1.00       457\n",
      "              Research Analyst       1.00      1.00      1.00       248\n",
      "Residential Landscape Designer       1.00      1.00      1.00       275\n",
      "            Retirement Planner       1.00      1.00      1.00       421\n",
      "                SEO Specialist       1.00      1.00      1.00       415\n",
      "         Sales Account Manager       1.00      1.00      1.00       254\n",
      "          Social Media Analyst       1.00      1.00      1.00       397\n",
      "          Social Media Manager       1.00      1.00      1.00       538\n",
      "      Supply Chain Coordinator       1.00      1.00      1.00       284\n",
      "          Supply Chain Manager       1.00      1.00      1.00       267\n",
      " Sustainable Design Specialist       1.00      1.00      1.00       274\n",
      "         Systems Administrator       1.00      1.00      1.00       274\n",
      "          Training Coordinator       1.00      1.00      1.00       247\n",
      "                UI/UX Designer       1.00      1.00      1.00       266\n",
      "                UX/UI Designer       1.00      1.00      1.00       298\n",
      "      User Experience Designer       1.00      1.00      1.00       562\n",
      "       User Interface Designer       1.00      1.00      1.00       525\n",
      "      Water Resources Engineer       1.00      1.00      1.00       255\n",
      "               Wedding Planner       1.00      1.00      1.00       258\n",
      "\n",
      "                      accuracy                           1.00     20000\n",
      "                     macro avg       1.00      1.00      1.00     20000\n",
      "                  weighted avg       1.00      1.00      1.00     20000\n",
      "\n"
     ]
    }
   ],
   "source": [
    "from sklearn.metrics import classification_report\n",
    "\n",
    "print(classification_report(y_test,y_pred))"
   ]
  },
  {
   "cell_type": "markdown",
   "id": "e27bc086-72b1-4d41-8e9c-538da96808d2",
   "metadata": {},
   "source": [
    "# 7. Predictive System\n"
   ]
  },
  {
   "cell_type": "code",
   "execution_count": 72,
   "id": "5aa82e16-1bdf-4aef-91bc-5561684f3f8d",
   "metadata": {},
   "outputs": [],
   "source": [
    "import re  # Import Python's regular expressions module\n",
    "\n",
    "def cleanResume(txt):\n",
    "    # Remove URLs starting with http (e.g., http://example.com)\n",
    "    cleanText = re.sub(r'http\\S+\\s', ' ', txt)\n",
    "\n",
    "    # Remove common retweet and copy-paste tags (often seen in social media text)\n",
    "    cleanText = re.sub(r'RT|cc', ' ', cleanText)\n",
    "\n",
    "    # Remove hashtags and the word following them (e.g., #Python)\n",
    "    cleanText = re.sub(r'#\\S+\\s', ' ', cleanText)\n",
    "\n",
    "    # Remove mentions like @username\n",
    "    cleanText = re.sub(r'@\\S+', ' ', cleanText)\n",
    "\n",
    "    # Remove punctuation and special characters using escaped characters\n",
    "    cleanText = re.sub('[%s]' % re.escape(r\"\"\"!\"#$%&'()*+,-./:;<=>?@[\\]^_`{|}~\"\"\"), ' ', cleanText)\n",
    "\n",
    "    # Remove non-ASCII characters (e.g., emojis, foreign scripts)\n",
    "    cleanText = re.sub(r'[^\\x00-\\x7f]', ' ', cleanText)\n",
    "\n",
    "    # Replace multiple spaces, tabs, and newlines with a single space\n",
    "    cleanText = re.sub(r'\\s+', ' ', cleanText)\n",
    "\n",
    "    # Return the cleaned text\n",
    "    return cleanText\n",
    "\n",
    "\n",
    "\n",
    "# Prediction and Job Field Name\n",
    "def job_recommendation(resume_text):\n",
    "    resume_text= cleanResume(resume_text)\n",
    "    resume_tfidf = tfidf_vectorizer.transform([resume_text])\n",
    "    predicted_category_1 = rf_classifier.predict(resume_tfidf)[0]\n",
    "    predicted_category_2 = rf_classifier.predict(resume_tfidf)[1]\n",
    "    return predicted_category_1, predicted_category_2"
   ]
  },
  {
   "cell_type": "code",
   "execution_count": 74,
   "id": "a8de4ac5-93fa-4cee-9782-5ca3fb2dcce2",
   "metadata": {},
   "outputs": [
    {
     "ename": "IndexError",
     "evalue": "index 1 is out of bounds for axis 0 with size 1",
     "output_type": "error",
     "traceback": [
      "\u001b[1;31m---------------------------------------------------------------------------\u001b[0m",
      "\u001b[1;31mIndexError\u001b[0m                                Traceback (most recent call last)",
      "Cell \u001b[1;32mIn[74], line 41\u001b[0m\n\u001b[0;32m      1\u001b[0m \u001b[38;5;66;03m# Example Usage\u001b[39;00m\n\u001b[0;32m      2\u001b[0m resume_file \u001b[38;5;241m=\u001b[39m \u001b[38;5;124m\"\"\"\u001b[39m\u001b[38;5;124mObjective:\u001b[39m\n\u001b[0;32m      3\u001b[0m \u001b[38;5;124mA creative and detail-oriented Designer with a passion for visual communication and brand identity seeking opportunities to leverage design skills in a dynamic and collaborative environment.\u001b[39m\n\u001b[0;32m      4\u001b[0m \n\u001b[1;32m   (...)\u001b[0m\n\u001b[0;32m     37\u001b[0m \u001b[38;5;124m- Spanish (Intermediate)\u001b[39m\n\u001b[0;32m     38\u001b[0m \u001b[38;5;124m\"\"\"\u001b[39m\n\u001b[1;32m---> 41\u001b[0m predicted_job_category_1, predicted_job_category_2 \u001b[38;5;241m=\u001b[39m job_recommendation(resume_file)\n\u001b[0;32m     42\u001b[0m \u001b[38;5;28mprint\u001b[39m(\u001b[38;5;124m\"\u001b[39m\u001b[38;5;124mPredicted Job Category:\u001b[39m\u001b[38;5;130;01m\\n\u001b[39;00m\u001b[38;5;124m 1.\u001b[39m\u001b[38;5;124m\"\u001b[39m, predicted_job_category_1, \u001b[38;5;124m\"\u001b[39m\u001b[38;5;130;01m\\n\u001b[39;00m\u001b[38;5;124m2. \u001b[39m\u001b[38;5;124m\"\u001b[39m,predicted_job_category_2)\n",
      "Cell \u001b[1;32mIn[72], line 35\u001b[0m, in \u001b[0;36mjob_recommendation\u001b[1;34m(resume_text)\u001b[0m\n\u001b[0;32m     33\u001b[0m resume_tfidf \u001b[38;5;241m=\u001b[39m tfidf_vectorizer\u001b[38;5;241m.\u001b[39mtransform([resume_text])\n\u001b[0;32m     34\u001b[0m predicted_category_1 \u001b[38;5;241m=\u001b[39m rf_classifier\u001b[38;5;241m.\u001b[39mpredict(resume_tfidf)[\u001b[38;5;241m0\u001b[39m]\n\u001b[1;32m---> 35\u001b[0m predicted_category_2 \u001b[38;5;241m=\u001b[39m rf_classifier\u001b[38;5;241m.\u001b[39mpredict(resume_tfidf)[\u001b[38;5;241m1\u001b[39m]\n\u001b[0;32m     36\u001b[0m \u001b[38;5;28;01mreturn\u001b[39;00m predicted_category_1, predicted_category_2\n",
      "\u001b[1;31mIndexError\u001b[0m: index 1 is out of bounds for axis 0 with size 1"
     ]
    }
   ],
   "source": [
    "# Example Usage\n",
    "resume_file = \"\"\"Objective:\n",
    "A creative and detail-oriented Designer with a passion for visual communication and brand identity seeking opportunities to leverage design skills in a dynamic and collaborative environment.\n",
    "\n",
    "Education:\n",
    "- Bachelor of Fine Arts in Graphic Design, XYZ College, GPA: 3.7/4.0\n",
    "- Diploma in Web Design, ABC Institute, GPA: 3.9/4.0\n",
    "\n",
    "Skills:\n",
    "- Proficient in Adobe Creative Suite (Photoshop, Illustrator, InDesign)\n",
    "- Strong understanding of typography, layout, and color theory\n",
    "- Experience in both print and digital design\n",
    "- Ability to conceptualize and execute design projects from concept to completion\n",
    "- Excellent attention to detail and time management skills\n",
    "\n",
    "Experience:\n",
    "Graphic Designer | XYZ Design Studio\n",
    "- Created visually appealing graphics for various marketing materials, including brochures, flyers, and social media posts\n",
    "- Collaborated with clients to understand their design needs and deliver creative solutions that align with their brand identity\n",
    "- Worked closely with the marketing team to ensure consistency in brand messaging across all platforms\n",
    "\n",
    "Freelance Designer\n",
    "- Designed logos, branding materials, and website layouts for small businesses and startups\n",
    "- Managed multiple projects simultaneously while meeting tight deadlines and maintaining quality standards\n",
    "- Established and maintained strong client relationships through clear communication and exceptional service\n",
    "\n",
    "Projects:\n",
    "- Rebranding Campaign for XYZ Company: Led a team to redesign the company's logo, website, and marketing collateral, resulting in a 30% increase in brand recognition\n",
    "- Packaging Design for ABC Product Launch: Developed eye-catching packaging designs for a new product line, contributing to a successful launch and positive customer feedback\n",
    "\n",
    "Certifications:\n",
    "- Adobe Certified Expert (ACE) in Adobe Illustrator\n",
    "- Responsive Web Design Certification from Udemy\n",
    "\n",
    "Languages:\n",
    "- English (Native)\n",
    "- Spanish (Intermediate)\n",
    "\"\"\"\n",
    "\n",
    "predicted_job_category = job_recommendation(resume_file)\n",
    "print(\"Predicted Job Category:\", predicted_job_category)"
   ]
  },
  {
   "cell_type": "markdown",
   "id": "71e32eb6-9834-4df6-a6a9-c21ae750539e",
   "metadata": {},
   "source": [
    "# 8. Save RandomForestClassifier Model\n"
   ]
  },
  {
   "cell_type": "code",
   "execution_count": 66,
   "id": "b21c03d2-c459-445c-9ef2-7ffdb4fa4b2b",
   "metadata": {},
   "outputs": [],
   "source": [
    "import pickle\n",
    "pickle.dump(rf_classifier,open('rf_classifier_job_recommendation.pkl','wb'))\n",
    "pickle.dump(tfidf_vectorizer,open('tfidf_vectorizer_job_recommendation.pkl','wb'))"
   ]
  },
  {
   "cell_type": "code",
   "execution_count": null,
   "id": "e88bfb3b-b0d2-4449-8cbb-7d1c6a875037",
   "metadata": {},
   "outputs": [],
   "source": []
  }
 ],
 "metadata": {
  "kernelspec": {
   "display_name": "Python [conda env:base] *",
   "language": "python",
   "name": "conda-base-py"
  },
  "language_info": {
   "codemirror_mode": {
    "name": "ipython",
    "version": 3
   },
   "file_extension": ".py",
   "mimetype": "text/x-python",
   "name": "python",
   "nbconvert_exporter": "python",
   "pygments_lexer": "ipython3",
   "version": "3.12.7"
  }
 },
 "nbformat": 4,
 "nbformat_minor": 5
}
